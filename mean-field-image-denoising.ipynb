{
 "cells": [
  {
   "cell_type": "markdown",
   "metadata": {},
   "source": [
    "Trying out mean field variational inference on image denoising"
   ]
  },
  {
   "cell_type": "code",
   "execution_count": 277,
   "metadata": {},
   "outputs": [],
   "source": [
    "from sklearn.datasets import fetch_olivetti_faces\n",
    "from matplotlib.pyplot import imshow\n",
    "import matplotlib.pyplot as plt\n",
    "from sklearn.decomposition import NMF, PCA, FastICA\n",
    "import numpy as np\n",
    "%matplotlib inline"
   ]
  },
  {
   "cell_type": "code",
   "execution_count": 278,
   "metadata": {},
   "outputs": [],
   "source": [
    "dataset = fetch_olivetti_faces(shuffle=True)\n",
    "X = dataset.data"
   ]
  },
  {
   "cell_type": "code",
   "execution_count": 279,
   "metadata": {},
   "outputs": [],
   "source": [
    "#Select a face\n",
    "X = X[4].reshape(64,64)"
   ]
  },
  {
   "cell_type": "code",
   "execution_count": 280,
   "metadata": {},
   "outputs": [],
   "source": [
    "X[X<0.5] = -1.\n",
    "X[X>=0.5] = 1."
   ]
  },
  {
   "cell_type": "code",
   "execution_count": 281,
   "metadata": {},
   "outputs": [
    {
     "data": {
      "text/plain": [
       "<matplotlib.image.AxesImage at 0x7f28a9c1ef98>"
      ]
     },
     "execution_count": 281,
     "metadata": {},
     "output_type": "execute_result"
    },
    {
     "data": {
      "image/png": "[encoded data removed]",
      "text/plain": [
       "<Figure size 432x288 with 1 Axes>"
      ]
     },
     "metadata": {},
     "output_type": "display_data"
    }
   ],
   "source": [
    "imshow(X, cmap=\"gray\")"
   ]
  },
  {
   "cell_type": "code",
   "execution_count": 282,
   "metadata": {},
   "outputs": [
    {
     "data": {
      "text/plain": [
       "<matplotlib.image.AxesImage at 0x7f28a9b853c8>"
      ]
     },
     "execution_count": 282,
     "metadata": {},
     "output_type": "execute_result"
    },
    {
     "data": {
      "image/png": "[encoded data removed]",
      "text/plain": [
       "<Figure size 432x288 with 1 Axes>"
      ]
     },
     "metadata": {},
     "output_type": "display_data"
    }
   ],
   "source": [
    "gamma = 0.99\n",
    "p = np.exp(gamma) / (np.exp(gamma) + np.exp(-gamma))\n",
    "M = np.random.choice(a=[1, -1], p=[p, 1-p], size=(64,64))\n",
    "Y = X * M\n",
    "imshow(Y, cmap=\"gray\")"
   ]
  },
  {
   "cell_type": "code",
   "execution_count": 283,
   "metadata": {},
   "outputs": [],
   "source": [
    "Q = np.random.rand(64,64)"
   ]
  },
  {
   "cell_type": "code",
   "execution_count": 284,
   "metadata": {},
   "outputs": [],
   "source": [
    "gamma=0.99"
   ]
  },
  {
   "cell_type": "code",
   "execution_count": 285,
   "metadata": {},
   "outputs": [],
   "source": [
    "def calculate_unnormalized_log_p(x, y, gamma=gamma):\n",
    "    sum_x = 0\n",
    "    for i in range(1,5):\n",
    "        sum_x += x[0]*x[i]\n",
    "    sum_x_y = 0\n",
    "    for i in range(0,5):\n",
    "        sum_x_y += gamma*x[i]*y[i]\n",
    "    total_sum = sum_x + sum_x_y\n",
    "    \"\"\"print(x)\n",
    "    print(y)\n",
    "    print(sum_x, sum_x_y, total_sum)\"\"\"\n",
    "    return total_sum\n",
    "\n",
    "def getqy(Q,Y,i,j):\n",
    "    q0 = Q[i, j]\n",
    "    q1 = Q[i-1, j] \n",
    "    q2 = Q[i, j-1]\n",
    "    q3 = Q[i+1, j]\n",
    "    q4 = Q[i, j+1]\n",
    "    y0 = Y[i, j]\n",
    "    y1 = Y[i-1, j] \n",
    "    y2 = Y[i, j-1]\n",
    "    y3 = Y[i+1, j]\n",
    "    y4 = Y[i, j+1]\n",
    "    q = [q0, q1, q2, q3, q4]\n",
    "    y = [y0, y1, y2, y3, y4]\n",
    "    return q,y\n",
    "\n",
    "def calculate_exp(x0, q, y):\n",
    "    total_exp = 0\n",
    "    for comb in itertools.product([1,-1],[1,-1],[1,-1],[1,-1]):\n",
    "        q_temp = np.array(q)\n",
    "        x = [x0]\n",
    "        x = np.array(x + list(comb))\n",
    "        q_temp[x == -1] = (1 - q_temp)[x == -1]\n",
    "        log_p = calculate_unnormalized_log_p(x, y)\n",
    "        total_exp += q_temp[1]*q_temp[2]*q_temp[3]*q_temp[4]*log_p\n",
    "    return total_exp\n",
    "\n",
    "def calculate_q(q,y):\n",
    "    exp_1 = np.exp(calculate_exp(1, q, y))\n",
    "    exp__1 = np.exp(calculate_exp(-1, q, y))\n",
    "    return exp_1 / (exp_1 + exp__1)\n",
    "\n",
    "def imagize_Q(Q):\n",
    "    X = np.zeros_like(Q)\n",
    "    X[Q<0.5] = -1\n",
    "    X[Q>0.5] = 1\n",
    "    imshow(X, cmap=\"gray\")\n",
    "    return X"
   ]
  },
  {
   "cell_type": "code",
   "execution_count": 286,
   "metadata": {
    "scrolled": true
   },
   "outputs": [
    {
     "name": "stdout",
     "output_type": "stream",
     "text": [
      "epoch 0:\n",
      "epoch 1:\n",
      "epoch 2:\n",
      "epoch 3:\n",
      "epoch 4:\n",
      "epoch 5:\n",
      "epoch 6:\n",
      "epoch 7:\n",
      "epoch 8:\n",
      "epoch 9:\n"
     ]
    },
    {
     "data": {
      "image/png": "[encoded data removed]",
      "text/plain": [
       "<Figure size 432x288 with 1 Axes>"
      ]
     },
     "metadata": {},
     "output_type": "display_data"
    }
   ],
   "source": [
    "no_epochs = 10\n",
    "for k in range(no_epochs):\n",
    "    print(\"epoch {}:\".format(k))\n",
    "    Q_new = np.zeros_like(Q)\n",
    "    for i in range(1,63):\n",
    "        for j in range(1,63):\n",
    "            q,y = getqy(Q,Y,i,j)\n",
    "            Q_new[i,j] = calculate_q(q,y)\n",
    "    Q = Q_new\n",
    "X_temp = imagize_Q(Q)"
   ]
  },
  {
   "cell_type": "code",
   "execution_count": null,
   "metadata": {},
   "outputs": [],
   "source": []
  }
 ],
 "metadata": {
  "kernelspec": {
   "display_name": "Python 3",
   "language": "python",
   "name": "python3"
  },
  "language_info": {
   "codemirror_mode": {
    "name": "ipython",
    "version": 3
   },
   "file_extension": ".py",
   "mimetype": "text/x-python",
   "name": "python",
   "nbconvert_exporter": "python",
   "pygments_lexer": "ipython3",
   "version": "3.6.5"
  }
 },
 "nbformat": 4,
 "nbformat_minor": 2
}
