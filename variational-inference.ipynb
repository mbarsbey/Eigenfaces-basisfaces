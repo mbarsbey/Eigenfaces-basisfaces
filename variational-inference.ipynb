{
 "cells": [
  {
   "cell_type": "markdown",
   "metadata": {},
   "source": [
    "## Variational Inference"
   ]
  },
  {
   "cell_type": "markdown",
   "metadata": {},
   "source": [
    "In Bayesian computation we are most likely interested in making inference about hidden variables. From frequentist perspective we are interested in parameters of the population that most likely have generated the sample we observe. In Bayesian perspective, on the other hand, we are interested in what we know about possible values of parameters given the fact that we observe the data at hand.\n",
    "\n",
    "$$\n",
    "\\begin{align}\n",
    "P(Z|X) &= \\frac{P(X|Z)P(Z)}{P(X)}\n",
    "        &= \\frac{P(X|Z)P(Z)}{\\int_Z P(X|Z)P(Z)}\n",
    "\\end{align}\n",
    "$$\n",
    "\n",
    "Usually enough, we cannot compute the sum in the denominator easily. Variational inference is a method  for approximating the posterior of the hidden variables. The way we do it is we define a distribution Q with parameters $\\phi$ and we try to make this variational distribution as close as possible to the actual posterior of the hidden variables by finding the optimal values of $\\phi$.\n",
    "\n",
    "The difference between two distributions is measured by KL divergence. Thus we are trying to minimize\n",
    "\n",
    "\n",
    "$$\n",
    "\\begin{align}\n",
    "KL(q(z|\\phi)|p(z|x)) &= \\langle \\log q(z|\\phi) - \\log p(z|x) \\rangle_{q(z|\\phi)} \\\\\n",
    "                     &= \\langle \\log q(z|\\phi) - \\log p(z, x) + \\log p(x) \\rangle_{q(z|\\phi)} \\\\\n",
    "                     &= \\langle \\log q(z|\\phi) - \\log p(z, x) \\rangle_{q(z|\\phi)} + \\log p(x)  \\geq 0 \\\\\n",
    "\\end{align}\n",
    "$$\n",
    "\n",
    "since KL divergence is always nonnegative. Since \\log p(x) does not depend on q, we aim to maximize $\\langle \\log q(z|\\phi) - \\log p(z, x) \\rangle$ or minimize its negative. This value is called evidence lower bound (ELBO) since:\n",
    "\n",
    "$$\n",
    "\\begin{align}\n",
    "    \\log p(x)  \\geq \\langle - \\log q(z|\\phi) + \\log p(z, x)  \\rangle_{q(z|x)}\n",
    "\\end{align}\n",
    "$$\n",
    "\n",
    "\n",
    "\n"
   ]
  },
  {
   "cell_type": "markdown",
   "metadata": {},
   "source": [
    "### A simple example (Beta - Bernoulli)"
   ]
  },
  {
   "cell_type": "markdown",
   "metadata": {},
   "source": [
    "Let us demonstrate this idea on a simple example.\n",
    "\n",
    "$$\n",
    "\\begin{align}\n",
    "\\pi &\\sim B(\\alpha, \\beta) \\\\\n",
    "x_i &\\sim BE(\\pi)\n",
    "\\end{align}\n",
    "$$\n",
    "\n",
    "Let our variational distribution be $q(z|\\phi) = q(\\pi|a,b) = B(a, b)$. Then ELBO is:\n",
    "\n",
    "$$\n",
    "\\begin{align}\n",
    "\\mathcal{L} &= \\langle -(a-1)\\log \\pi - (b-1)\\log (1- \\pi) + \\log B(a, b) +(\\alpha -1)\\log \\pi + (\\beta-1)\\log (1-\\pi) - \\log B(\\alpha, \\beta) + \\sum_i x_i \\log \\pi + (1 - x_i) \\log (1-\\pi)    \\rangle_{q(\\pi|a,b)} \\\\\n",
    "            &= \\langle (\\alpha - a + \\sum_i x_i)\\log \\pi + (\\beta - b + \\sum_i (1 - x_i))\\log (1- \\pi) \\rangle_{q(\\pi|a,b)} + \\log B(a, b) - \\log B(\\alpha, \\beta)  \\\\\n",
    "            &= (\\alpha - a + \\sum_i x_i)\\langle \\log \\pi \\rangle_{q(\\pi|a,b)} + (\\beta - b + \\sum_i (1 - x_i))\\langle\\log (1- \\pi)\\rangle_{q(\\pi|a,b)}  + \\log B(a, b) - \\log B(\\alpha, \\beta)  \\\\\n",
    "            &= (\\alpha - a + \\sum_i x_i)(\\psi(a)-\\psi(a + b)) + (\\beta - b + \\sum_i (1 - x_i))(\\psi(b)-\\psi(a + b))  + \\log B(a, b) - \\log B(\\alpha, \\beta)  \\\\\n",
    "            &= (\\alpha - a + \\sum_i x_i)(\\psi(a)-\\psi(a + b)) + (\\beta - b + \\sum_i (1 - x_i))(\\psi(b)-\\psi(a + b))  + \\log B(a, b) - \\log B(\\alpha, \\beta)  \\\\\n",
    "\\end{align}\n",
    "$$\n",
    "\n",
    "\n"
   ]
  },
  {
   "cell_type": "markdown",
   "metadata": {},
   "source": [
    "When we take the derivative of the ELBO with respect to a and b:"
   ]
  },
  {
   "cell_type": "markdown",
   "metadata": {},
   "source": [
    "$$\n",
    "\\begin{align}\n",
    "\\frac{\\partial \\mathcal{L}}{\\partial a} &= (\\alpha - a + \\sum_i x_i)(\\psi(a) - \\psi(a + b))' - (\\beta - b + \\sum_i (1 - x_i))\\psi'(a + b)\\\\\n",
    "\\frac{\\partial \\mathcal{L}}{\\partial b} &= - (\\alpha - a + \\sum_i x_i)\\psi'(a + b) - (\\beta - b + \\sum_i (1 - x_i))(\\psi(a) - \\psi(a + b))'\n",
    "\\end{align}\n",
    "$$\n",
    "\n",
    "Both equations equal 0 when:\n",
    "\n",
    "$$\n",
    "\\begin{align}\n",
    "a &= \\alpha + \\sum_i x_i \\\\\n",
    "b &= \\beta + \\sum_i (1 - x_i)\n",
    "\\end{align}\n",
    "$$\n",
    "\n",
    "Thus, \n",
    "$$\n",
    "q(\\pi|a,b) = B(\\alpha + \\sum_i x_i, \\beta + \\sum_i (1 - x_i))\n",
    "$$"
   ]
  },
  {
   "cell_type": "markdown",
   "metadata": {},
   "source": [
    "### Implementation for the beta-binomial example"
   ]
  },
  {
   "cell_type": "markdown",
   "metadata": {},
   "source": [
    "Let us quickly implement the simple example above:"
   ]
  },
  {
   "cell_type": "code",
   "execution_count": 79,
   "metadata": {},
   "outputs": [],
   "source": [
    "import numpy as np\n",
    "import pandas as pd\n",
    "import matplotlib.pyplot as plt\n",
    "from scipy.stats import beta\n",
    "from scipy.stats import bernoulli\n",
    "\n",
    "\n",
    "def plot_beta(b, pi, title=\"\"):\n",
    "    x = np.linspace(0,1,100)\n",
    "    y = b.pdf(x)\n",
    "    fig, ax = plt.subplots()\n",
    "    ax.plot(x,y, label=\"beta\")\n",
    "    ax.set_title(title)\n",
    "    ax.axvline(pi, c=\"black\", label=\"pi\")\n",
    "    ax.legend()\n",
    "    ax.set_xlim(0,1)\n",
    "    return fig, ax\n",
    "\n",
    "def generate_x(N, pi):\n",
    "    x = bernoulli(pi).rvs(size=N)\n",
    "    return x"
   ]
  },
  {
   "cell_type": "markdown",
   "metadata": {},
   "source": [
    "Setting the alpha and beta hyperparameters for the prior distribution for pi, and the number of samples to be drawn from the resulting Bernoulli distribution."
   ]
  },
  {
   "cell_type": "code",
   "execution_count": 80,
   "metadata": {},
   "outputs": [],
   "source": [
    "alpha_par = 1\n",
    "beta_par = 1\n",
    "N = 100"
   ]
  },
  {
   "cell_type": "code",
   "execution_count": 82,
   "metadata": {},
   "outputs": [],
   "source": [
    "b_prior = beta(alpha_par, beta_par)\n",
    "pi = b_prior.rvs()"
   ]
  },
  {
   "cell_type": "markdown",
   "metadata": {},
   "source": [
    "Plotting the prior distribution along with the actual value of the pi."
   ]
  },
  {
   "cell_type": "code",
   "execution_count": 83,
   "metadata": {},
   "outputs": [
    {
     "data": {
      "image/png": "[encoded data removed]",
      "text/plain": [
       "<Figure size 432x288 with 1 Axes>"
      ]
     },
     "metadata": {},
     "output_type": "display_data"
    }
   ],
   "source": [
    "fig, ax = plot_beta(b_prior, pi, \"Prior distribution of pi\")"
   ]
  },
  {
   "cell_type": "markdown",
   "metadata": {},
   "source": [
    "Generating samples from the resulting Bernoulli distribution:"
   ]
  },
  {
   "cell_type": "code",
   "execution_count": 88,
   "metadata": {},
   "outputs": [],
   "source": [
    "x = generate_x(N, pi)"
   ]
  },
  {
   "cell_type": "markdown",
   "metadata": {},
   "source": [
    "Finding the parameters for the posterior distribution of pi using variational inference"
   ]
  },
  {
   "cell_type": "code",
   "execution_count": 85,
   "metadata": {},
   "outputs": [],
   "source": [
    "a_par = alpha_par + x.sum()\n",
    "b_par = beta_par + N - x.sum()"
   ]
  },
  {
   "cell_type": "code",
   "execution_count": 86,
   "metadata": {},
   "outputs": [],
   "source": [
    "b_posterior = beta(a_par, b_par)"
   ]
  },
  {
   "cell_type": "markdown",
   "metadata": {},
   "source": [
    "Plotting the posterior distribution of pi along with the actual value of pi. The posterior distribution's mode and expected value are much closer to the actual value then the prior's were."
   ]
  },
  {
   "cell_type": "code",
   "execution_count": 89,
   "metadata": {
    "scrolled": true
   },
   "outputs": [
    {
     "data": {
      "image/png": "[encoded data removed]",
      "text/plain": [
       "<Figure size 432x288 with 1 Axes>"
      ]
     },
     "metadata": {},
     "output_type": "display_data"
    }
   ],
   "source": [
    "fig, ax = plot_beta(b_posterior, pi, \"Posterior distribution of pi, N = {}\".format(N))"
   ]
  },
  {
   "cell_type": "markdown",
   "metadata": {},
   "source": [
    "### Mean field variational inference"
   ]
  },
  {
   "cell_type": "markdown",
   "metadata": {},
   "source": [
    "Let us now focus on another example. A mixture of Gaussians. This example is from Blei's review.\n",
    "\n",
    "Let us imagine a Bayesian mixture of K Gaussians, where N samples are produced.\n",
    "\n",
    "The generative process is as below:\n",
    "\n",
    "$$\n",
    "\\begin{align}\n",
    " \\mu_k &\\sim \\mathcal{N}(0, \\sigma^2) &k = 1 ... K \\\\\n",
    " c_i  &\\sim \\text{Categorical}(1/K ... 1/ K) &i = 1 ... N \\\\\n",
    " x_i  &\\sim \\mathcal{N}(c_i^\\intercal \\pmb{\\mu}, 1) &i = 1 ... N \\\\\n",
    "\\end{align}\n",
    "$$\n",
    "Here, we want to obtain $ p(\\pmb{\\mu}, \\pmb{c} | \\pmb{x} )$ but we cannot since we cannot compute $p(\\pmb{x})$. Thus we need to approximate this posterior distribution using a variational distribution $q(\\pmb{z})$ as above. Here we are assuming to select our model based on ELBO. Some argue that this is not justified and use log predictive distribution with cross-validation."
   ]
  },
  {
   "cell_type": "markdown",
   "metadata": {},
   "source": [
    "The complexity of the optimization increases as the complexity of q increases. Therefore, a class of variational inference models make the following assumption:\n",
    "\n",
    "$$\n",
    "q(\\pmb{z}) = \\prod_i q_i(z_i)\n",
    "$$\n",
    "\n",
    "where the latent variables are assumed to be independent of each other. This is a simplifying assumption that makes the computation more tractable but also decreasing the capacity of q to model p. The mean-field approximating distribution for the mixture of Gaussians defined above is:\n",
    "\n",
    "$$\n",
    "q(\\pmb{\\mu}, \\pmb{c}) = \\prod_k q(\\mu_k | m_k, s_k^2) \\prod_i q(c_i|\\varphi_i)\n",
    "$$\n",
    "\n",
    "Now the problem has become an optimization problem. We solve this optimization problem with coordinate ascent variational inference algorithm. In this algorithm, we optimize variational distributions one by one, holding all other distributions constant. As verified by Blei, the optimization is conducted iteratively by setting $q_i^*(z_i)$ such that:\n",
    "\n",
    "$$\n",
    "q_i^*(z_i) \\propto \\exp (\\mathbb{E}_{-j}[p(z_j|\\pmb{z}_{-j}, \\pmb{x})])\n",
    "$$\n",
    "\n",
    "VI can be sensitive to initialization. When optimizing with VI, it might sometimes be more desirable to calculate average log predictive of a validation set than calculating ELBO of the whole dataset. Moreover, it is a good practice to work with logs of probabilities and use the likes of log-sum-exp trick when applicable in order to avoid underflow problems.\n",
    "\n",
    "\n",
    "\n"
   ]
  },
  {
   "cell_type": "markdown",
   "metadata": {},
   "source": [
    "Let us now write the ELBO for the mixture of Gaussians example:\n",
    "$$\n",
    "\\begin{align}\n",
    "ELBO(\\pmb{m},\\pmb{s^2}, \\pmb{\\varphi}) = \\sum_k\\mathbb{E}[\\log p(\\mu_k); m_k, s^2_k] + \\sum_i\\mathbb{E}[\\log p(c_i); \\varphi_i] + \\sum_i\\mathbb{E}[\\log p(x_i|c_i, \\pmb{\\mu}); \\pmb{m}, \\pmb{s}^2, \\varphi_i] - \\sum_k\\mathbb{E}[\\log q(\\mu_k|m_k, s^2_k)] - \\sum_i\\mathbb{E}[\\log q(c_i|\\varphi_i)])\n",
    "\\end{align}\n",
    "$$"
   ]
  },
  {
   "cell_type": "markdown",
   "metadata": {},
   "source": [
    "### The variational density for mixture component assignments and component means"
   ]
  },
  {
   "cell_type": "markdown",
   "metadata": {},
   "source": [
    "$$q_i^*(c_i|\\varphi_i) \\propto \\exp (\\log p(c_i) + \\mathbb{E}[\\log p(x_i|c_i, \\pmb{\\mu}); \\pmb{m}, \\pmb{s}^2])$$"
   ]
  },
  {
   "cell_type": "markdown",
   "metadata": {},
   "source": [
    "Since in our example c_i's are equal, \\log p(c_i) is constant. Let us examine the second term more closely. Using the expression $p(x_i|c_i, \\pmb{\\mu}) = \\prod_{i,k} p(x_i|\\mu_k)^{c_{ik}}$, skipping a few lines of derivation:\n",
    "\n",
    "$$\n",
    "\\begin{align}\n",
    "\\mathbb{E}[\\log p(x_i|c_i, \\pmb{\\mu}); \\pmb{m}, \\pmb{s}^2] & = \\sum_k c_{ik} (\\mathbb{E}[\\mu_k; m_k, s^2_k]x_i - \\mathbb{E}[\\mu^2_k; m_k, s^2_k] / 2) + \\text{const}\n",
    "\\end{align}\n",
    "$$"
   ]
  },
  {
   "cell_type": "markdown",
   "metadata": {},
   "source": [
    "Thus:\n",
    "$$\n",
    "\\varphi_{i,k} \\propto \\exp( \\mathbb{E}[\\mu_k; m_k, s^2_k]x_i - \\mathbb{E}[\\mu^2_k; m_k, s^2_k] / 2)\n",
    "$$"
   ]
  },
  {
   "cell_type": "markdown",
   "metadata": {},
   "source": [
    "A similar calculation reveals the following update equations for $q(\\mu_k)$:\n",
    "\n",
    "$$\n",
    "\\begin{align}\n",
    "m_k &= \\frac{\\sum_i \\varphi_{ik} x_i}{1/\\sigma^2 + \\sum_i \\varphi_{ik}} \\\\\n",
    "s^2_k &= \\frac{1}{1/\\sigma^2 + \\sum_i \\varphi_{ik}}\n",
    "\\end{align}\n",
    "$$"
   ]
  },
  {
   "cell_type": "markdown",
   "metadata": {},
   "source": [
    "### Implementation for the mixture of Gaussians example"
   ]
  },
  {
   "cell_type": "code",
   "execution_count": 189,
   "metadata": {},
   "outputs": [],
   "source": [
    "import pandas as pd\n",
    "import numpy as np\n",
    "import matplotlib.pyplot as plt\n",
    "from scipy.stats import norm\n",
    "from scipy.stats import multinomial\n",
    "\n",
    "def plot_mog(x, means, N, title=\"\"):\n",
    "    y = np.repeat(0, N)\n",
    "    fig, ax = plt.subplots()\n",
    "    ax.scatter(x, y, label=\"x\", s=7)\n",
    "    ax.set_title(title)\n",
    "    for mean in means:\n",
    "        ax.axvline(mean, c=\"black\")\n",
    "    ax.legend()\n",
    "    return fig, ax"
   ]
  },
  {
   "cell_type": "code",
   "execution_count": 211,
   "metadata": {},
   "outputs": [],
   "source": [
    "mu_0 = 0\n",
    "sigma_0 = 5\n",
    "sigma_k = 1\n",
    "N = 100\n",
    "K = 3"
   ]
  },
  {
   "cell_type": "code",
   "execution_count": 212,
   "metadata": {},
   "outputs": [],
   "source": [
    "means = norm(mu_0, sigma_0).rvs(size=3)\n",
    "#means = np.array([-1.77768294,  2.86416801, -4.07905112])"
   ]
  },
  {
   "cell_type": "code",
   "execution_count": 213,
   "metadata": {},
   "outputs": [],
   "source": [
    "multi = multinomial(n=1,p=np.repeat(1./K, K))"
   ]
  },
  {
   "cell_type": "code",
   "execution_count": 214,
   "metadata": {},
   "outputs": [
    {
     "data": {
      "text/plain": [
       "array([2.20711394])"
      ]
     },
     "execution_count": 214,
     "metadata": {},
     "output_type": "execute_result"
    }
   ],
   "source": [
    "multi.rvs() @ means"
   ]
  },
  {
   "cell_type": "code",
   "execution_count": 215,
   "metadata": {},
   "outputs": [],
   "source": [
    "c = multinomial(n=1,p=np.repeat(1./K, K)).rvs(N)\n",
    "x = []\n",
    "for i in range(N):\n",
    "    c_i = c[i]\n",
    "    mu_k = c_i @ means\n",
    "    x_i = norm(mu_k, sigma_k).rvs()\n",
    "    x.append(x_i)\n",
    "x = np.array(x)"
   ]
  },
  {
   "cell_type": "code",
   "execution_count": 216,
   "metadata": {},
   "outputs": [
    {
     "data": {
      "image/png": "[encoded data removed]",
      "text/plain": [
       "<Figure size 432x288 with 1 Axes>"
      ]
     },
     "metadata": {},
     "output_type": "display_data"
    }
   ],
   "source": [
    "fig, ax = plot_mog(x,  means, N)"
   ]
  },
  {
   "cell_type": "markdown",
   "metadata": {},
   "source": [
    "Now for the variational inference"
   ]
  },
  {
   "cell_type": "code",
   "execution_count": 221,
   "metadata": {},
   "outputs": [],
   "source": [
    "def normalize(varphi):\n",
    "    return varphi / varphi.sum(axis=1).reshape(N, 1)\n",
    "\n",
    "def eval_elbo():\n",
    "    pass\n",
    "\n",
    "def avg_log_predictive(x, N, K, m):\n",
    "    sum_i = 0.\n",
    "    for i in range(N):\n",
    "        sum_k = 0.\n",
    "        for k in range(K):\n",
    "            sum_k += norm(m[k], 1.).pdf(x[i])\n",
    "        sum_k /= K\n",
    "        sum_i += np.log(sum_k)\n",
    "    avg_log_predictive = sum_i / N\n",
    "    return avg_log_predictive\n",
    "\n",
    "def plot_predictive(x, K, m, title=\"\"):\n",
    "    x_dummy = np.linspace(-10,10,1000)\n",
    "    sum_k = np.zeros((1000,3))\n",
    "    for k in range(K):\n",
    "        sum_k[:, k] = norm(m[k], 1.).pdf(x_dummy)\n",
    "    #log_pred = np.log(sum_k.mean(axis=1))\n",
    "    #y = log_pred - log_pred.min()\n",
    "    y = sum_k.mean(axis=1)\n",
    "    fig, ax = plt.subplots()\n",
    "    ax.set_title(title)\n",
    "    ax.scatter(x, np.repeat(0, N), label=\"x\", s=7)\n",
    "    ax.plot(x_dummy, y, label=\"-log_pred\")\n",
    "    return fig, ax"
   ]
  },
  {
   "cell_type": "code",
   "execution_count": 222,
   "metadata": {},
   "outputs": [],
   "source": [
    "#initializing the parameters for the variational distributions\n",
    "varphi = np.random.rand(N, K)\n",
    "varphi = normalize(varphi)\n",
    "m = np.random.uniform(-1, 1, size=K)\n",
    "s = np.repeat(1, K)"
   ]
  },
  {
   "cell_type": "code",
   "execution_count": 219,
   "metadata": {
    "scrolled": true
   },
   "outputs": [
    {
     "name": "stdout",
     "output_type": "stream",
     "text": [
      "Average log predictive by epochs:\n",
      "-6.891815235681474\n",
      "-3.496783871891651\n",
      "-4.34587405263445\n",
      "-5.396583560642216\n",
      "-7.801661535750433\n",
      "-4.327242504959591\n",
      "-4.550486442928043\n",
      "-5.556270023451662\n",
      "-7.099819901274231\n",
      "-4.342437013767001\n",
      "-5.437164019607202\n",
      "-8.249606313821953\n",
      "-6.11071381143265\n",
      "-3.5478919977745367\n",
      "-3.9509916347497107\n",
      "-4.748892501678209\n",
      "-5.873892851272624\n",
      "-5.0947033853311785\n",
      "-5.788983062230091\n",
      "-5.721713047073402\n",
      "-6.548620879749106\n",
      "-4.805470185492234\n",
      "-5.725429834523434\n",
      "-7.526531804124391\n",
      "-4.206443724452183\n",
      "-5.0382159700419615\n",
      "-6.281352173311732\n",
      "-5.041045812504959\n",
      "-5.738574640685053\n",
      "-5.778507823677156\n",
      "-5.733943225639782\n",
      "-6.077630138460497\n",
      "-5.3961091896530675\n",
      "-6.194272680412475\n",
      "-5.227928134215902\n",
      "-5.85541403760003\n",
      "-5.6692799593184695\n",
      "-7.055859103162915\n",
      "-4.372418183804556\n",
      "-5.475280590593606\n",
      "-8.178253441279656\n",
      "-5.116331496981612\n",
      "-3.535084247541745\n",
      "-3.884128078691697\n",
      "-4.49007536557106\n",
      "-5.2165912755108526\n",
      "-5.732204230938355\n",
      "-7.603032780463018\n",
      "-4.213695753182895\n",
      "-4.935351445070071\n",
      "-5.899789284488428\n",
      "-5.521841283256737\n",
      "-6.742029937250154\n",
      "-4.607317598412816\n",
      "-5.6735790209693935\n",
      "-8.147074608605893\n",
      "-4.874962391394508\n",
      "-3.5626853809560814\n",
      "-3.9638318631433753\n",
      "-4.684858931202669\n",
      "-5.643204988410179\n",
      "-5.350360404673397\n",
      "-6.368504524452603\n",
      "-5.002318897248014\n",
      "-5.731507709743749\n",
      "-5.8856417077224314\n",
      "-5.645817412815351\n",
      "-7.041222309389696\n",
      "-4.380966632801107\n",
      "-5.485820231542276\n",
      "-8.15614579587927\n",
      "-4.92809168012281\n",
      "-3.552763654762883\n",
      "-3.932746476858252\n",
      "-4.607465122843069\n",
      "-5.432434219832598\n",
      "-5.58196039949025\n",
      "-7.679340126617001\n",
      "-4.236282501960132\n",
      "-4.809796637309584\n",
      "-5.673444539746223\n",
      "-5.729061372357333\n",
      "-6.396294822907956\n",
      "-4.980335077015205\n",
      "-5.729739856236814\n",
      "-5.978239086649795\n",
      "-5.529227020287254\n",
      "-6.6679879426194875\n",
      "-4.676989653960928\n",
      "-5.701903602023123\n",
      "-8.27993741164746\n",
      "-7.401435905340147\n",
      "-3.807836238842827\n",
      "-4.410968430879023\n",
      "-5.416822688464174\n",
      "-7.243386275746164\n",
      "-4.266406237286594\n",
      "-5.314127214082287\n",
      "-8.074223686174127\n",
      "-5.142780240235673\n"
     ]
    }
   ],
   "source": [
    "n_epochs = 100\n",
    "print(\"Average log predictive by epochs:\")\n",
    "for t in range(n_epochs):\n",
    "    #component assignments\n",
    "    for i in range(N):\n",
    "        for k in range(K):\n",
    "            varphi[i, k] = np.exp((m[k]*x[i] - m[k]**2)/2)\n",
    "    varphi = normalize(varphi)\n",
    "    for k in range(K):\n",
    "        m[k] = ((varphi[:,k]*x).sum())/((1/sigma_0) + varphi.sum(axis=0)[k])\n",
    "        s[k] = 1/((1/sigma_0) + varphi.sum(axis=0)[k])\n",
    "    print(avg_log_predictive(x, N, K, m))"
   ]
  },
  {
   "cell_type": "code",
   "execution_count": 220,
   "metadata": {},
   "outputs": [
    {
     "data": {
      "text/plain": [
       "(<Figure size 432x288 with 1 Axes>,\n",
       " <matplotlib.axes._subplots.AxesSubplot at 0x7f6f6a25a0f0>)"
      ]
     },
     "execution_count": 220,
     "metadata": {},
     "output_type": "execute_result"
    },
    {
     "data": {
      "image/png": "[encoded data removed]",
      "text/plain": [
       "<Figure size 432x288 with 1 Axes>"
      ]
     },
     "metadata": {},
     "output_type": "display_data"
    }
   ],
   "source": [
    "fig, ax = plot_predictive(x, K, m, title=\"Posterior predictive distribution using variational approximation\")"
   ]
  },
  {
   "cell_type": "code",
   "execution_count": null,
   "metadata": {},
   "outputs": [],
   "source": []
  }
 ],
 "metadata": {
  "kernelspec": {
   "display_name": "Python 3",
   "language": "python",
   "name": "python3"
  },
  "language_info": {
   "codemirror_mode": {
    "name": "ipython",
    "version": 3
   },
   "file_extension": ".py",
   "mimetype": "text/x-python",
   "name": "python",
   "nbconvert_exporter": "python",
   "pygments_lexer": "ipython3",
   "version": "3.6.6"
  }
 },
 "nbformat": 4,
 "nbformat_minor": 2
}
