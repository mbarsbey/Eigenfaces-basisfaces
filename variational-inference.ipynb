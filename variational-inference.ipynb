{
 "cells": [
  {
   "cell_type": "markdown",
   "metadata": {},
   "source": [
    "## Variational Inference"
   ]
  },
  {
   "cell_type": "markdown",
   "metadata": {},
   "source": [
    "In Bayesian computation we are most likely interested in making inference about hidden variables. From frequentist perspective we are interested in parameters of the population that most likely have generated the sample we observe. In Bayesian perspective, on the other hand, we are interested in what we know about possible values of parameters given the fact that we observe the data at hand.\n",
    "\n",
    "$$\n",
    "\\begin{align}\n",
    "P(Z|X) &= \\frac{P(X|Z)P(Z)}{P(X)}\n",
    "        &= \\frac{P(X|Z)P(Z)}{\\int_Z P(X|Z)P(Z)}\n",
    "\\end{align}\n",
    "$$\n",
    "\n",
    "Usually enough, we cannot compute the sum in the denominator easily. Variational inference is a method  for approximating the posterior of the hidden variables. The way we do it is we define a distribution Q with parameters $\\phi$ and we try to make this variational distribution as close as possible to the actual posterior of the hidden variables by finding the optimal values of $\\phi$.\n",
    "\n",
    "The difference between two distributions is measured by KL divergence. Thus we are trying to minimize\n",
    "\n",
    "\n",
    "$$\n",
    "\\begin{align}\n",
    "KL(q(z|\\phi)|p(z|x)) &= \\langle \\log q(z|\\phi) - \\log p(z|x) \\rangle_{q(z|\\phi)} \\\\\n",
    "                     &= \\langle \\log q(z|\\phi) - \\log p(z, x) + \\log p(x) \\rangle_{q(z|\\phi)} \\\\\n",
    "                     &= \\langle \\log q(z|\\phi) - \\log p(z, x) \\rangle_{q(z|\\phi)} + \\log p(x)  \\geq 0 \\\\\n",
    "\\end{align}\n",
    "$$\n",
    "\n",
    "since KL divergence is always nonnegative. Since \\log p(x) does not depend on q, we aim to maximize $\\langle \\log q(z|\\phi) - \\log p(z, x) \\rangle$ or minimize its negative. This value is called evidence lower bound (ELBO) since:\n",
    "\n",
    "$$\n",
    "\\begin{align}\n",
    "    \\log p(x)  \\geq \\langle - \\log q(z|\\phi) + \\log p(z, x)  \\rangle_{q(z|x)}\n",
    "\\end{align}\n",
    "$$\n",
    "\n",
    "\n",
    "\n"
   ]
  },
  {
   "cell_type": "markdown",
   "metadata": {},
   "source": [
    "### A simple example (Beta - Bernoulli)"
   ]
  },
  {
   "cell_type": "markdown",
   "metadata": {},
   "source": [
    "Let us demonstrate this idea on a simple example.\n",
    "\n",
    "$$\n",
    "\\begin{align}\n",
    "\\pi &\\sim B(\\alpha, \\beta) \\\\\n",
    "x_i &\\sim BE(\\pi)\n",
    "\\end{align}\n",
    "$$\n",
    "\n",
    "Let our variational distribution be $q(z|\\phi) = q(\\pi|a,b) = B(a, b)$. Then ELBO is:\n",
    "\n",
    "$$\n",
    "\\begin{align}\n",
    "\\mathcal{L} &= \\langle -(a-1)\\log \\pi - (b-1)\\log (1- \\pi) + \\log B(a, b) +(\\alpha -1)\\log \\pi + (\\beta-1)\\log (1-\\pi) - \\log B(\\alpha, \\beta) + \\sum_i x_i \\log \\pi + (1 - x_i) \\log (1-\\pi)    \\rangle_{q(\\pi|a,b)} \\\\\n",
    "            &= \\langle (\\alpha - a + \\sum_i x_i)\\log \\pi + (\\beta - b + \\sum_i (1 - x_i))\\log (1- \\pi) \\rangle_{q(\\pi|a,b)} + \\log B(a, b) - \\log B(\\alpha, \\beta)  \\\\\n",
    "            &= (\\alpha - a + \\sum_i x_i)\\langle \\log \\pi \\rangle_{q(\\pi|a,b)} + (\\beta - b + \\sum_i (1 - x_i))\\langle\\log (1- \\pi)\\rangle_{q(\\pi|a,b)}  + \\log B(a, b) - \\log B(\\alpha, \\beta)  \\\\\n",
    "            &= (\\alpha - a + \\sum_i x_i)(\\psi(a)-\\psi(a + b)) + (\\beta - b + \\sum_i (1 - x_i))(\\psi(b)-\\psi(a + b))  + \\log B(a, b) - \\log B(\\alpha, \\beta)  \\\\\n",
    "            &= (\\alpha - a + \\sum_i x_i)(\\psi(a)-\\psi(a + b)) + (\\beta - b + \\sum_i (1 - x_i))(\\psi(b)-\\psi(a + b))  + \\log B(a, b) - \\log B(\\alpha, \\beta)  \\\\\n",
    "\\end{align}\n",
    "$$\n",
    "\n",
    "\n"
   ]
  },
  {
   "cell_type": "markdown",
   "metadata": {},
   "source": [
    "When we take the derivative of the ELBO with respect to a and b:"
   ]
  },
  {
   "cell_type": "markdown",
   "metadata": {},
   "source": [
    "$$\n",
    "\\begin{align}\n",
    "\\frac{\\partial \\mathcal{L}}{\\partial a} &= (\\alpha - a + \\sum_i x_i)(\\psi(a) - \\psi(a + b))' - (\\beta - b + \\sum_i (1 - x_i))\\psi'(a + b)\\\\\n",
    "\\frac{\\partial \\mathcal{L}}{\\partial b} &= - (\\alpha - a + \\sum_i x_i)\\psi'(a + b) - (\\beta - b + \\sum_i (1 - x_i))(\\psi(a) - \\psi(a + b))'\n",
    "\\end{align}\n",
    "$$\n",
    "\n",
    "Both equations equal 0 when:\n",
    "\n",
    "$$\n",
    "\\begin{align}\n",
    "a &= \\alpha + \\sum_i x_i \\\\\n",
    "b &= \\beta + \\sum_i (1 - x_i)\n",
    "\\end{align}\n",
    "$$\n",
    "\n",
    "Thus, \n",
    "$$\n",
    "q(\\pi|a,b) = B(\\alpha + \\sum_i x_i, \\beta + \\sum_i (1 - x_i))\n",
    "$$"
   ]
  },
  {
   "cell_type": "markdown",
   "metadata": {},
   "source": [
    "### Implementation for the beta-binomial example"
   ]
  },
  {
   "cell_type": "markdown",
   "metadata": {},
   "source": [
    "Let us quickly implement the simple example above:"
   ]
  },
  {
   "cell_type": "code",
   "execution_count": 79,
   "metadata": {},
   "outputs": [],
   "source": [
    "import numpy as np\n",
    "import pandas as pd\n",
    "import matplotlib.pyplot as plt\n",
    "from scipy.stats import beta\n",
    "from scipy.stats import bernoulli\n",
    "\n",
    "\n",
    "def plot_beta(b, pi, title=\"\"):\n",
    "    x = np.linspace(0,1,100)\n",
    "    y = b.pdf(x)\n",
    "    fig, ax = plt.subplots()\n",
    "    ax.plot(x,y, label=\"beta\")\n",
    "    ax.set_title(title)\n",
    "    ax.axvline(pi, c=\"black\", label=\"pi\")\n",
    "    ax.legend()\n",
    "    ax.set_xlim(0,1)\n",
    "    return fig, ax\n",
    "\n",
    "def generate_x(N, pi):\n",
    "    x = bernoulli(pi).rvs(size=N)\n",
    "    return x"
   ]
  },
  {
   "cell_type": "markdown",
   "metadata": {},
   "source": [
    "Setting the alpha and beta hyperparameters for the prior distribution for pi, and the number of samples to be drawn from the resulting Bernoulli distribution."
   ]
  },
  {
   "cell_type": "code",
   "execution_count": 80,
   "metadata": {},
   "outputs": [],
   "source": [
    "alpha_par = 1\n",
    "beta_par = 1\n",
    "N = 100"
   ]
  },
  {
   "cell_type": "code",
   "execution_count": 82,
   "metadata": {},
   "outputs": [],
   "source": [
    "b_prior = beta(alpha_par, beta_par)\n",
    "pi = b_prior.rvs()"
   ]
  },
  {
   "cell_type": "markdown",
   "metadata": {},
   "source": [
    "Plotting the prior distribution along with the actual value of the pi."
   ]
  },
  {
   "cell_type": "code",
   "execution_count": 83,
   "metadata": {},
   "outputs": [
    {
     "data": {
      "image/png": "[encoded data removed]",
      "text/plain": [
       "<Figure size 432x288 with 1 Axes>"
      ]
     },
     "metadata": {},
     "output_type": "display_data"
    }
   ],
   "source": [
    "fig, ax = plot_beta(b_prior, pi, \"Prior distribution of pi\")"
   ]
  },
  {
   "cell_type": "markdown",
   "metadata": {},
   "source": [
    "Generating samples from the resulting Bernoulli distribution:"
   ]
  },
  {
   "cell_type": "code",
   "execution_count": 88,
   "metadata": {},
   "outputs": [],
   "source": [
    "x = generate_x(N, pi)"
   ]
  },
  {
   "cell_type": "markdown",
   "metadata": {},
   "source": [
    "Finding the parameters for the posterior distribution of pi using variational inference"
   ]
  },
  {
   "cell_type": "code",
   "execution_count": 85,
   "metadata": {},
   "outputs": [],
   "source": [
    "a_par = alpha_par + x.sum()\n",
    "b_par = beta_par + N - x.sum()"
   ]
  },
  {
   "cell_type": "code",
   "execution_count": 86,
   "metadata": {},
   "outputs": [],
   "source": [
    "b_posterior = beta(a_par, b_par)"
   ]
  },
  {
   "cell_type": "markdown",
   "metadata": {},
   "source": [
    "Plotting the posterior distribution of pi along with the actual value of pi. The posterior distribution's mode and expected value are much closer to the actual value then the prior's were."
   ]
  },
  {
   "cell_type": "code",
   "execution_count": 89,
   "metadata": {
    "scrolled": true
   },
   "outputs": [
    {
     "data": {
      "image/png": "[encoded data removed]",
      "text/plain": [
       "<Figure size 432x288 with 1 Axes>"
      ]
     },
     "metadata": {},
     "output_type": "display_data"
    }
   ],
   "source": [
    "fig, ax = plot_beta(b_posterior, pi, \"Posterior distribution of pi, N = {}\".format(N))"
   ]
  },
  {
   "cell_type": "markdown",
   "metadata": {},
   "source": [
    "### Mean field variational inference"
   ]
  },
  {
   "cell_type": "markdown",
   "metadata": {},
   "source": [
    "Let us now focus on another example. A mixture of Gaussians. This example is from Blei's review.\n",
    "\n",
    "Let us imagine a Bayesian mixture of K Gaussians, where N samples are produced.\n",
    "\n",
    "The generative process is as below:\n",
    "\n",
    "$$\n",
    "\\begin{align}\n",
    " \\mu_k &\\sim \\mathcal{N}(0, \\sigma^2) &k = 1 ... K \\\\\n",
    " c_i  &\\sim \\text{Categorical}(1/K ... 1/ K) &i = 1 ... N \\\\\n",
    " x_i  &\\sim \\mathcal{N}(c_i^\\intercal \\pmb{\\mu}, 1) &i = 1 ... N \\\\\n",
    "\\end{align}\n",
    "$$\n",
    "Here, we want to obtain $ p(\\pmb{\\mu}, \\pmb{c} | \\pmb{x} )$ but we cannot since we cannot compute $p(\\pmb{x})$. Thus we need to approximate this posterior distribution using a variational distribution $q(\\pmb{z})$ as above. Here we are assuming to select our model based on ELBO. Some argue that this is not justified and use log predictive distribution with cross-validation."
   ]
  },
  {
   "cell_type": "markdown",
   "metadata": {},
   "source": [
    "The complexity of the optimization increases as the complexity of q increases. Therefore, a class of variational inference models make the following assumption:\n",
    "\n",
    "$$\n",
    "q(\\pmb{z}) = \\prod_i q_i(z_i)\n",
    "$$\n",
    "\n",
    "where the latent variables are assumed to be independent of each other. This is a simplifying assumption that makes the computation more tractable but also decreasing the capacity of q to model p. The mean-field approximating distribution for the mixture of Gaussians defined above is:\n",
    "\n",
    "$$\n",
    "q(\\pmb{\\mu}, \\pmb{c}) = \\prod_k q(\\mu_k | m_k, s_k^2) \\prod_i q(c_i|\\varphi_i)\n",
    "$$\n",
    "\n",
    "Now the problem has become an optimization problem. We solve this optimization problem with coordinate ascent variational inference algorithm. In this algorithm, we optimize variational distributions one by one, holding all other distributions constant. As verified by Blei, the optimization is conducted iteratively by setting $q_i^*(z_i)$ such that:\n",
    "\n",
    "$$\n",
    "q_i^*(z_i) \\propto \\exp (\\mathbb{E}_{-j}[p(z_j|\\pmb{z}_{-j}, \\pmb{x})])\n",
    "$$\n",
    "\n",
    "VI can be sensitive to initialization. When optimizing with VI, it might sometimes be more desirable to calculate average log predictive of a validation set than calculating ELBO of the whole dataset. Moreover, it is a good practice to work with logs of probabilities and use the likes of log-sum-exp trick when applicable in order to avoid underflow problems.\n",
    "\n",
    "\n",
    "\n"
   ]
  },
  {
   "cell_type": "markdown",
   "metadata": {},
   "source": [
    "Let us now write the ELBO for the mixture of Gaussians example:\n",
    "$$\n",
    "\\begin{align}\n",
    "ELBO(\\pmb{m},\\pmb{s^2}, \\pmb{\\varphi}) = \\sum_k\\mathbb{E}[\\log p(\\mu_k); m_k, s^2_k] + \\sum_i\\mathbb{E}[\\log p(c_i); \\varphi_i] + \\sum_i\\mathbb{E}[\\log p(x_i|c_i, \\pmb{\\mu}); \\pmb{m}, \\pmb{s}^2, \\varphi_i] - \\sum_k\\mathbb{E}[\\log q(\\mu_k|m_k, s^2_k)] - \\sum_i\\mathbb{E}[\\log q(c_i|\\varphi_i)])\n",
    "\\end{align}\n",
    "$$"
   ]
  },
  {
   "cell_type": "markdown",
   "metadata": {},
   "source": [
    "### The variational density for mixture component assignments and component means"
   ]
  },
  {
   "cell_type": "markdown",
   "metadata": {},
   "source": [
    "$$q_i^*(c_i|\\varphi_i) \\propto \\exp (\\log p(c_i) + \\mathbb{E}[\\log p(x_i|c_i, \\pmb{\\mu}); \\pmb{m}, \\pmb{s}^2])$$"
   ]
  },
  {
   "cell_type": "markdown",
   "metadata": {},
   "source": [
    "Since in our example c_i's are equal, \\log p(c_i) is constant. Let us examine the second term more closely. Using the expression $p(x_i|c_i, \\pmb{\\mu}) = \\prod_{i,k} p(x_i|\\mu_k)^{c_{ik}}$, skipping a few lines of derivation:\n",
    "\n",
    "$$\n",
    "\\begin{align}\n",
    "\\mathbb{E}[\\log p(x_i|c_i, \\pmb{\\mu}); \\pmb{m}, \\pmb{s}^2] & = \\sum_k c_{ik} (\\mathbb{E}[\\mu_k; m_k, s^2_k]x_i - \\mathbb{E}[\\mu^2_k; m_k, s^2_k] / 2) + \\text{const}\n",
    "\\end{align}\n",
    "$$"
   ]
  },
  {
   "cell_type": "markdown",
   "metadata": {},
   "source": [
    "Thus:\n",
    "$$\n",
    "\\varphi_{i,k} \\propto \\exp( \\mathbb{E}[\\mu_k; m_k, s^2_k]x_i - \\mathbb{E}[\\mu^2_k; m_k, s^2_k] / 2)\n",
    "$$"
   ]
  },
  {
   "cell_type": "markdown",
   "metadata": {},
   "source": [
    "A similar calculation reveals the following update equations for $q(\\mu_k)$:\n",
    "\n",
    "$$\n",
    "\\begin{align}\n",
    "m_k &= \\frac{\\sum_i \\varphi_{ik} x_i}{1/\\sigma^2 + \\sum_i \\varphi_{ik}} \\\\\n",
    "s^2_k &= \\frac{1}{1/\\sigma^2 + \\sum_i \\varphi_{ik}}\n",
    "\\end{align}\n",
    "$$"
   ]
  },
  {
   "cell_type": "markdown",
   "metadata": {},
   "source": [
    "### Computing the ELBO"
   ]
  },
  {
   "cell_type": "markdown",
   "metadata": {},
   "source": [
    "Let us rewrite the ELBO:\n",
    "\n",
    "$$\n",
    "\\begin{align}\n",
    "ELBO(\\pmb{m},\\pmb{s^2}, \\pmb{\\varphi}) = \\sum_k\\mathbb{E}[\\log p(\\mu_k); m_k, s^2_k] + \\sum_i\\mathbb{E}[\\log p(c_i); \\varphi_i] + \\sum_i\\mathbb{E}[\\log p(x_i|c_i, \\pmb{\\mu}); \\pmb{m}, \\pmb{s}^2, \\varphi_i] - \\sum_k\\mathbb{E}[\\log q(\\mu_k|m_k, s^2_k)] - \\sum_i\\mathbb{E}[\\log q(c_i|\\varphi_i)])\n",
    "\\end{align}\n",
    "$$\n",
    "\n",
    "Now let us write each term more explicitly:\n",
    "$$\n",
    "\\begin{align}\n",
    "\\sum_k^K\\mathbb{E}[\\log p(\\mu_k); m_k, s^2_k]  &=  \\sum_k^K \\log(\\frac{1}{\\sqrt{2\\pi\\sigma^2_0}}) -\\frac{m_k^2 + s_k^2}{2\\sigma^2_0}  \\\\\n",
    "\\sum_k^K\\mathbb{E}[\\log p(c_i); \\varphi_i]  &= \\sum_i^N \\sum_k^K \\varphi_{ik}\\log(1/K) = -\\log(K) \\\\\n",
    "\\sum_i^N\\mathbb{E}[\\log p(x_i|c_i, \\pmb{\\mu}); \\pmb{m}, \\pmb{s}^2, \\varphi_i] &= \\sum_i \\sum_k \\varphi_{ik} (\\log(\\frac{1}{\\sqrt{2\\pi}}) -\\frac{1}{2}(x_i^2 -2m_k x_i + m^2_k +s^2_k) ) \\\\\n",
    "\\sum_k^K\\mathbb{E}[\\log q(\\mu_k|m_k, s^2_k)] &= \\sum_k^K \\log(\\frac{1}{\\sqrt{2\\pi e s^2_k}}) \\\\\n",
    "\\sum_i^N\\mathbb{E}[\\log q(c_i|\\varphi_i)] &= \\sum_i^N \\sum_k^K \\varphi_{ik}\\log(\\varphi_{ik}) \n",
    "\\end{align}\n",
    "$$"
   ]
  },
  {
   "cell_type": "markdown",
   "metadata": {},
   "source": [
    "### Implementation for the mixture of Gaussians example"
   ]
  },
  {
   "cell_type": "code",
   "execution_count": 25,
   "metadata": {},
   "outputs": [],
   "source": [
    "import pandas as pd\n",
    "import numpy as np\n",
    "import matplotlib.pyplot as plt\n",
    "from scipy.stats import norm\n",
    "from scipy.stats import multinomial\n",
    "\n",
    "def plot_mog(x, means, N, title=\"\"):\n",
    "    y = np.repeat(0, N)\n",
    "    fig, ax = plt.subplots()\n",
    "    ax.scatter(x, y, label=\"x\", s=7)\n",
    "    ax.set_title(title)\n",
    "    for mean in means:\n",
    "        ax.axvline(mean, c=\"black\")\n",
    "    ax.legend()\n",
    "    return fig, ax"
   ]
  },
  {
   "cell_type": "code",
   "execution_count": 26,
   "metadata": {},
   "outputs": [],
   "source": [
    "mu_0 = 0\n",
    "sigma_0 = 10\n",
    "sigma_k = 1\n",
    "N = 100\n",
    "K = 3"
   ]
  },
  {
   "cell_type": "code",
   "execution_count": 27,
   "metadata": {},
   "outputs": [],
   "source": [
    "means = norm(mu_0, sigma_0).rvs(size=3)\n",
    "#means = np.array([-1.77768294,  2.86416801, -4.07905112])"
   ]
  },
  {
   "cell_type": "code",
   "execution_count": 28,
   "metadata": {},
   "outputs": [],
   "source": [
    "multi = multinomial(n=1,p=np.repeat(1./K, K))"
   ]
  },
  {
   "cell_type": "code",
   "execution_count": 29,
   "metadata": {},
   "outputs": [],
   "source": [
    "c = multinomial(n=1,p=np.repeat(1./K, K)).rvs(N)\n",
    "x = []\n",
    "for i in range(N):\n",
    "    c_i = c[i]\n",
    "    mu_k = c_i @ means\n",
    "    x_i = norm(mu_k, sigma_k).rvs()\n",
    "    x.append(x_i)\n",
    "x = np.array(x)"
   ]
  },
  {
   "cell_type": "code",
   "execution_count": 30,
   "metadata": {},
   "outputs": [
    {
     "data": {
      "image/png": "[encoded data removed]",
      "text/plain": [
       "<Figure size 432x288 with 1 Axes>"
      ]
     },
     "metadata": {},
     "output_type": "display_data"
    }
   ],
   "source": [
    "fig, ax = plot_mog(x,  means, N)"
   ]
  },
  {
   "cell_type": "markdown",
   "metadata": {},
   "source": [
    "Now for the variational inference"
   ]
  },
  {
   "cell_type": "code",
   "execution_count": 31,
   "metadata": {},
   "outputs": [],
   "source": [
    "def normalize(varphi):\n",
    "    return varphi / varphi.sum(axis=1).reshape(N, 1)\n",
    "\n",
    "def eval_elbo():\n",
    "    pass\n",
    "\n",
    "def avg_log_predictive(x, N, K, m):\n",
    "    sum_i = 0.\n",
    "    for i in range(N):\n",
    "        sum_k = 0.\n",
    "        for k in range(K):\n",
    "            sum_k += norm(m[k], 1.).pdf(x[i])\n",
    "        sum_k /= K\n",
    "        sum_i += np.log(sum_k)\n",
    "    avg_log_predictive = sum_i / N\n",
    "    return avg_log_predictive\n",
    "\n",
    "def plot_predictive(x, K, m, title=\"\"):\n",
    "    x_dummy = np.linspace(-10,10,1000)\n",
    "    sum_k = np.zeros((1000,3))\n",
    "    for k in range(K):\n",
    "        sum_k[:, k] = norm(m[k], 1.).pdf(x_dummy)\n",
    "    #log_pred = np.log(sum_k.mean(axis=1))\n",
    "    #y = log_pred - log_pred.min()\n",
    "    y = sum_k.mean(axis=1)\n",
    "    fig, ax = plt.subplots()\n",
    "    ax.set_title(title)\n",
    "    ax.scatter(x, np.repeat(0, N), label=\"x\", s=7)\n",
    "    ax.plot(x_dummy, y, label=\"-log_pred\")\n",
    "    return fig, ax\n",
    "\n",
    "def compute_elbo(x, m, s, varphi, sigma_0, K, N):\n",
    "    exp_p_m = K*np.log(1/(np.sqrt(2*np.pi*sigma_0))) - (1/(2*sigma_0))*(m**2 + s).sum()\n",
    "    exp_p_c = -np.log(K)\n",
    "    exp_p_x = 0\n",
    "    for i in range(N):\n",
    "        for k in range(K):\n",
    "            exp_p_x += varphi[i,k]*(np.log(1/(np.sqrt(2*np.pi))) - 0.5*(x[i]**2 - 2*m[k]*x[i] + m[k]**2 + s[k]))\n",
    "    exp_q_m = (np.log(1/np.sqrt(2*np.pi*np.e*s))).sum()\n",
    "    exp_q_c = 0\n",
    "    for i in range(N):\n",
    "        for k in range(K):\n",
    "            exp_q_c += varphi[i,k] * np.log(varphi[i,k])\n",
    "    elbo = exp_p_m + exp_p_c + exp_p_x - exp_q_m - exp_q_c\n",
    "    return elbo\n",
    "\n",
    "def plot_elbo_alp(elbo, avg_log_pred):\n",
    "    n_epochs = len(elbo)\n",
    "    fig, axes = plt.subplots(1, 2)\n",
    "    axes[0].plot(range(n_epochs), elbo)\n",
    "    axes[0].set_title(\"ELBO\")\n",
    "    axes[1].plot(range(n_epochs), avg_log_pred)\n",
    "    axes[1].set_title(\"Avg. Log Pred.\")\n",
    "    return fig, axes"
   ]
  },
  {
   "cell_type": "code",
   "execution_count": 32,
   "metadata": {},
   "outputs": [],
   "source": [
    "#initializing the parameters for the variational distributions\n",
    "varphi = np.random.rand(N, K)\n",
    "varphi = normalize(varphi)\n",
    "m = np.random.uniform(-1, 1, size=K)\n",
    "s = np.repeat(1., K)"
   ]
  },
  {
   "cell_type": "code",
   "execution_count": 33,
   "metadata": {
    "scrolled": true
   },
   "outputs": [],
   "source": [
    "max_n_epochs = 100\n",
    "elbo = []\n",
    "avg_log_pred = []\n",
    "mean_diffs = []\n",
    "for t in range(max_n_epochs):\n",
    "    #component assignments\n",
    "    for i in range(N):\n",
    "        for k in range(K):\n",
    "            varphi[i, k] = np.exp((m[k]*x[i] - m[k]**2 - s[k])/2)\n",
    "    varphi = normalize(varphi)\n",
    "    m_old = m.copy()\n",
    "    for k in range(K):\n",
    "        m[k] = ((varphi[:,k]*x).sum())/((1/sigma_0) + varphi.sum(axis=0)[k])\n",
    "        s[k] = 1/((1/sigma_0) + varphi.sum(axis=0)[k])\n",
    "    mean_diffs.append(np.dot(np.array(m_old) - np.array(m), np.array(m_old) - np.array(m)))\n",
    "    if np.dot(np.array(m_old) - np.array(m), np.array(m_old) - np.array(m)) < 0.000001:\n",
    "        break\n",
    "    elbo.append(compute_elbo(x, m, s, varphi, sigma_0, K, N))\n",
    "    avg_log_pred.append(avg_log_predictive(x, N, K, m))\n",
    "elbo = np.array(elbo)\n",
    "avg_log_pred = np.array(avg_log_pred)\n",
    "mean_diffs = np.array(mean_diffs)"
   ]
  },
  {
   "cell_type": "code",
   "execution_count": 34,
   "metadata": {
    "scrolled": true
   },
   "outputs": [
    {
     "data": {
      "image/png": "[encoded data removed]",
      "text/plain": [
       "<Figure size 432x288 with 1 Axes>"
      ]
     },
     "metadata": {},
     "output_type": "display_data"
    }
   ],
   "source": [
    "fig, ax = plot_predictive(x, K, m, title=\"Posterior predictive distribution using variational approximation\")"
   ]
  },
  {
   "cell_type": "code",
   "execution_count": 35,
   "metadata": {},
   "outputs": [
    {
     "data": {
      "image/png": "[encoded data removed]",
      "text/plain": [
       "<Figure size 432x288 with 2 Axes>"
      ]
     },
     "metadata": {},
     "output_type": "display_data"
    }
   ],
   "source": [
    "fig, axes = plot_elbo_alp(elbo, avg_log_pred)"
   ]
  },
  {
   "cell_type": "code",
   "execution_count": 36,
   "metadata": {},
   "outputs": [
    {
     "data": {
      "text/plain": [
       "[<matplotlib.lines.Line2D at 0x7fee79995278>]"
      ]
     },
     "execution_count": 36,
     "metadata": {},
     "output_type": "execute_result"
    },
    {
     "data": {
      "image/png": "[encoded data removed]",
      "text/plain": [
       "<Figure size 432x288 with 1 Axes>"
      ]
     },
     "metadata": {},
     "output_type": "display_data"
    }
   ],
   "source": [
    "plt.plot(range(len(mean_diffs)), mean_diffs)"
   ]
  },
  {
   "cell_type": "markdown",
   "metadata": {},
   "source": [
    "### VI in exponential families"
   ]
  },
  {
   "cell_type": "markdown",
   "metadata": {},
   "source": [
    "Mean-field VI in exponential families is especially easy. If each complete conditional for hidden variables is in the exponential families as in the case of Bayesian mixture of Gaussians, then mean-field updates are very easy to derive and the algorithm is easily scalable. Let us write the complete conditional for variable $z_j$ in the canonical exponential form:\n",
    "\n",
    "$$\n",
    "p(z_j|\\pmb{z_{-j}}, \\pmb{x}) = h(z_j)\\exp(\\eta_j(\\pmb{z_{-j}}, \\pmb{x})^\\intercal z_j - a(\\eta_j(\\pmb{z_{-j}}, \\pmb{x})))\n",
    "$$\n",
    "\n",
    "So considering the mean-field update equations:\n",
    "\n",
    "$$\n",
    "\\begin{align}\n",
    "q(z_j)  &\\propto \\mathbb{E}_{q(\\pmb{z}_{-j})}[p(z_j|\\pmb{z_{-j}}, \\pmb{x})] \\\\\n",
    "        &\\propto h(z_j)\\exp(\\eta_j(\\pmb{z_{-j}}, \\pmb{x})^\\intercal z_j\n",
    "\\end{align}\n",
    "$$\n",
    "\n",
    "This shows that the optimal parametric form of the variational factors to be in the same form as the full posterior distributions of the complete conditionals of the factors. Let $\\nu_j$ be the parameters for the variational distribution of the j'th factor. The relation above implies that:\n",
    "\n",
    "$$\n",
    "\\nu_j \\propto \\mathbb{E}[\\eta_j(\\pmb{z_{-j}}, \\pmb{x})^\\intercal z_j]\n",
    "$$\n",
    "\n",
    "This facilitates the derivation of update equations for CAVI ini exponential families."
   ]
  },
  {
   "cell_type": "markdown",
   "metadata": {},
   "source": [
    "### Conditional conjugacy"
   ]
  },
  {
   "cell_type": "markdown",
   "metadata": {},
   "source": [
    "Conditionally conjugate models are a specific case of exponential family models. They include global and local latent variables. When the priors are chosen so that the priors for the parameters are in the same family as the complete conditional of each of them, the parameters of the complete conditionals are very easy to derive in a CAVI setting."
   ]
  },
  {
   "cell_type": "markdown",
   "metadata": {},
   "source": [
    "### Stochastic variational inference"
   ]
  },
  {
   "cell_type": "markdown",
   "metadata": {},
   "source": [
    "To be completed."
   ]
  },
  {
   "cell_type": "markdown",
   "metadata": {},
   "source": [
    "### Variational auto-encoding Bayes"
   ]
  },
  {
   "cell_type": "markdown",
   "metadata": {},
   "source": [
    "In certain cases we cannot conduct mean-field variational inference since we cannot calculate expectations with regard to the variational distributions. Moreover, it can also be the case that the Monte Carlo estimator for the gradient has too much variance and does not converge.\n",
    "\n",
    "In these cases we can find an alternative way to optimize the evidential lower bound.\n",
    "\n"
   ]
  },
  {
   "cell_type": "markdown",
   "metadata": {},
   "source": [
    "### Black box variational inference"
   ]
  },
  {
   "cell_type": "code",
   "execution_count": null,
   "metadata": {},
   "outputs": [],
   "source": []
  }
 ],
 "metadata": {
  "kernelspec": {
   "display_name": "Python 3",
   "language": "python",
   "name": "python3"
  },
  "language_info": {
   "codemirror_mode": {
    "name": "ipython",
    "version": 3
   },
   "file_extension": ".py",
   "mimetype": "text/x-python",
   "name": "python",
   "nbconvert_exporter": "python",
   "pygments_lexer": "ipython3",
   "version": "3.6.6"
  }
 },
 "nbformat": 4,
 "nbformat_minor": 2
}
