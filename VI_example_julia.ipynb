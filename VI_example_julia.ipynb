{
 "cells": [
  {
   "cell_type": "markdown",
   "metadata": {},
   "source": [
    "# Simple mean - field inference examples"
   ]
  },
  {
   "cell_type": "markdown",
   "metadata": {},
   "source": [
    "## Rank-1 Matrix"
   ]
  },
  {
   "cell_type": "markdown",
   "metadata": {},
   "source": [
    "$$\n",
    "\\begin{align}\n",
    "S_{ij} &\\sim \\text{PO}(W_i H^\\text{T}_j) \\\\\n",
    "W_i &\\sim G(a, b) \\\\\n",
    "H_j &\\sim G(a, b)\n",
    "\\end{align}\n",
    "$$"
   ]
  },
  {
   "cell_type": "markdown",
   "metadata": {},
   "source": [
    "$$\n",
    "\\begin{align}\n",
    "KL(\\log q(W,H)||\\log p(W,H|S)) = \\langle \\log q(W,H) \\rangle_q - \\langle \\log p(W,H,S) \\rangle_q + \\log p(S)\n",
    "\\end{align}\n",
    "$$\n",
    "\n",
    "We could find the $q(W,H)$ that minimizes the KL divergence above, or, given that any KL divergence is larger than 0, we could rewrite the expression above as:"
   ]
  },
  {
   "cell_type": "markdown",
   "metadata": {},
   "source": [
    "$$\n",
    "\\begin{align}\n",
    "\\log p(S) &\\geq   \\langle \\log p(W,H,S) \\rangle_q  -\\langle \\log q(W,H) \\rangle_q \\\\\n",
    "\\log p(S) &\\geq   \\langle \\log p(S|W, H) \\rangle_q + \\langle \\log p(W, H) \\rangle_q - \\langle \\log q(W,H) \\rangle_q\n",
    "\\end{align}\n",
    "$$\n",
    "\n",
    "Alternatively, we could find the $q(W,H)$ that maximizes the expression above, which is the ELBO."
   ]
  },
  {
   "cell_type": "markdown",
   "metadata": {},
   "source": [
    "Given $q(W, H) = q(W)q(H) = \\prod_i q_i(W_i) \\prod_j q_j(H_j)$, let us maximize ELBO:\n",
    "\n",
    "$$\n",
    "\\begin{align}\n",
    "\\mathcal{B_p(q)} &= \\langle \\log p(S|W, H) \\rangle_q + \\langle \\log p(W, H) \\rangle_q - \\langle \\log q(W,H) \\rangle_q \\\\\n",
    "\\mathcal{B_p(q)} &= \\sum_{W,H} q(W)q(H)\\log p(S|W, H) + \\sum_{W,H} q(W)q(H)\\log p(W, H) - \\sum_{W,H} q(W)q(H)\\log q(W) - \\sum_{W,H} q(W)q(H)\\log q(H) \\\\\n",
    "\\mathcal{B_p(q)} &= \\sum_{W,H} q(W)q(H)\\log p(S|W, H) + \\sum_{W,H} q(W)q(H)\\log p(W, H) - \\sum_{W} q(W)\\log q(W) - \\sum_{H}q(H)\\log q(H) \\\\\n",
    "\\mathcal{B_p(q)} &= \\sum_{i,j,W_i,H_j} q_i(W_i)q_j(H_j)\\log p(S_{i,j}|W_i, H_j) + \\sum_{i,j,W_i,H_j}q_i(W_i)q_j(H_j)(\\log p(W_i) + \\log p(H_j)) - \\sum_{i, W_i} q_i(W_i)\\log q_i(W_i) - \\sum_{j, H_j}q_j(H_j)\\log q_j(H_j)\n",
    "\\end{align}\n",
    "$$"
   ]
  },
  {
   "cell_type": "markdown",
   "metadata": {},
   "source": [
    "If we set the derivative of the functional to 0:\n",
    "\n",
    "$$\n",
    "\\begin{align}\n",
    "\\frac{\\delta \\mathcal{B_p(q)}}{\\delta q_i(W_i)} &=^+ \\sum_j \\langle \\log p(S_{i,j}|W_i, H_j) \\rangle_{q_j(H_j)} +\\log p(W_i) - log q_i(W_i) -1 \\\\\n",
    "0 &=^+ \\sum_j \\langle \\log p(S_{i,j}|W_i, H_j) \\rangle_{q_j(H_j)} +\\log p(W_i) - log q_i(W_i) -1 \\\\\n",
    "log q_i(W_i) &=^+ \\sum_j \\langle \\log p(S_{i,j}|W_i, H_j) \\rangle_{q_j(H_j)} +\\log p(W_i) \\\\\n",
    "log q_i(W_i) &=^+ \\sum_j \\langle S_{i,j}\\log W_i -W_iH_j \\rangle_{q_j(H_j)} +(a-1)\\log(W_i) - W_i/b \\\\\n",
    "log q_i(W_i) &=^+ \\log W_i \\sum_j S_{i,j} -  W_i\\sum_j\\langle H_j \\rangle_{q_j(H_j)} +(a-1)\\log(W_i) - W_i/b \\\\\n",
    "log q_i(W_i) &=^+ \\log W_i \\sum_j S_{i,j} -  W_i\\sum_j a^h_j b^h_j +(a-1)\\log(W_i) - W_i/b \\\\\n",
    "\\end{align}\n",
    "$$ \n",
    "\n",
    "These mean that the new distribution for $q_i(W_i)$ is:\n",
    "$$\n",
    "q_i(W_i) = \\mathcal{G}\\big(\\sum_{j} (S_{i, j}) + a, b/(b\\sum_j a^h_j b^h_j +1)\\big)\n",
    "$$\n",
    "\n",
    "We will continue updating $q_i(W_i)$'s and $q_j(W_j)$'s similarly until convergence of the ELBO."
   ]
  },
  {
   "cell_type": "markdown",
   "metadata": {},
   "source": [
    "Let's generate an example W, H, and S"
   ]
  },
  {
   "cell_type": "code",
   "execution_count": 2,
   "metadata": {},
   "outputs": [],
   "source": [
    "using Distributions"
   ]
  },
  {
   "cell_type": "code",
   "execution_count": 120,
   "metadata": {},
   "outputs": [],
   "source": [
    "using PyPlot"
   ]
  },
  {
   "cell_type": "code",
   "execution_count": 154,
   "metadata": {},
   "outputs": [],
   "source": [
    "a = 5\n",
    "b = 1\n",
    "dim_w = 5\n",
    "dim_h = 3\n",
    "W = reshape(rand(Gamma(a, b), dim_w), (dim_w,1));\n",
    "H = reshape(rand(Gamma(a, b), dim_h), (dim_h,1));\n",
    "P = W * H'\n",
    "S = zeros((length(W), length(H)))\n",
    "for i in 1:dim_w\n",
    "    for j in 1:dim_h\n",
    "        S[i, j] = rand(Poisson(P[i,j]))\n",
    "    end\n",
    "end"
   ]
  },
  {
   "cell_type": "code",
   "execution_count": 156,
   "metadata": {},
   "outputs": [],
   "source": [
    "phi_W = rand(dim_w,2);\n",
    "phi_H = rand(dim_h,2);\n",
    "before_tr = (phi_W[:,1] .* phi_W[:,2])*(phi_H[:,1] .* phi_H[:,2])';"
   ]
  },
  {
   "cell_type": "code",
   "execution_count": 157,
   "metadata": {},
   "outputs": [],
   "source": [
    "vmax = 1. *maximum(S)\n",
    "vmin = 0;"
   ]
  },
  {
   "cell_type": "code",
   "execution_count": 158,
   "metadata": {},
   "outputs": [
    {
     "name": "stdout",
     "output_type": "stream",
     "text": [
      "beginning error: 104.49503636180164\n",
      "final error: 11.425723187568924\n"
     ]
    }
   ],
   "source": [
    "println(\"beginning error: \", norm(S - (phi_W[:,1] .* phi_W[:,2])*(phi_H[:,1] .* phi_H[:,2])'))\n",
    "for i in 1:200\n",
    "    global phi_W, phi_H\n",
    "    phi_W = hcat(sum(S, dims=2) .+ a, b./ fill((b*sum(phi_W[:,1].*phi_W[:,2])+1),dim_w))\n",
    "    phi_H = hcat(sum(S, dims=1)' .+ a, b./ fill((b*sum(phi_H[:,1].*phi_H[:,2])+1),dim_h))\n",
    "    #println(\"training error: \", norm(S - (phi_W[:,1] .* phi_W[:,2])*(phi_H[:,1] .* phi_H[:,2])'))\n",
    "end\n",
    "println(\"final error: \", norm(S - (phi_W[:,1] .* phi_W[:,2])*(phi_H[:,1] .* phi_H[:,2])'))"
   ]
  },
  {
   "cell_type": "code",
   "execution_count": 159,
   "metadata": {},
   "outputs": [
    {
     "data": {
      "image/png": "[encoded data removed]",
      "text/plain": [
       "Figure(PyObject <Figure size 640x480 with 3 Axes>)"
      ]
     },
     "metadata": {},
     "output_type": "display_data"
    },
    {
     "data": {
      "text/plain": [
       "PyObject Text(0.5,1,'After training')"
      ]
     },
     "execution_count": 159,
     "metadata": {},
     "output_type": "execute_result"
    }
   ],
   "source": [
    "PyPlot.subplot(1,3,1)\n",
    "PyPlot.imshow(S, vmin=vmin, vmax=vmax)\n",
    "PyPlot.title(\"Original matrix\")\n",
    "PyPlot.subplot(1,3,2)\n",
    "PyPlot.imshow(before_tr, vmin=vmin, vmax=vmax);\n",
    "PyPlot.title(\"Before training\")\n",
    "PyPlot.subplot(1,3,3)\n",
    "PyPlot.imshow((phi_W[:,1] .* phi_W[:,2])*(phi_H[:,1] .* phi_H[:,2])', vmin=vmin, vmax=vmax);\n",
    "PyPlot.title(\"After training\")"
   ]
  },
  {
   "cell_type": "markdown",
   "metadata": {},
   "source": [
    "## Scalar"
   ]
  },
  {
   "cell_type": "markdown",
   "metadata": {},
   "source": [
    "$$\n",
    "\\begin{align}\n",
    "S &\\sim \\text{PO}(WH) \\\\\n",
    "W &\\sim G(a, b) \\\\\n",
    "H &\\sim G(a, b)\n",
    "\\end{align}\n",
    "$$"
   ]
  },
  {
   "cell_type": "markdown",
   "metadata": {},
   "source": [
    "$$\n",
    "\\begin{align}\n",
    "KL(\\log q(W,H)||\\log p(W,H|S)) = \\langle \\log q(W,H) \\rangle_q - \\langle \\log p(W,H,S) \\rangle_q + \\log p(S)\n",
    "\\end{align}\n",
    "$$\n",
    "\n",
    "We could find the $q(W,H)$ that minimizes the KL divergence above, or, given that any KL divergence is larger than 0, we could rewrite the expression above as:"
   ]
  },
  {
   "cell_type": "markdown",
   "metadata": {},
   "source": [
    "$$\n",
    "\\begin{align}\n",
    "\\log p(S) &\\geq   \\langle \\log p(W,H,S) \\rangle_q  -\\langle \\log q(W,H) \\rangle_q \\\\\n",
    "\\log p(S) &\\geq   \\langle \\log p(S|W, H) \\rangle_q + \\langle \\log p(W, H) \\rangle_q - \\langle \\log q(W,H) \\rangle_q\n",
    "\\end{align}\n",
    "$$\n",
    "\n",
    "Alternatively, we could find the $q(W,H)$ that maximizes the expression above, which is the ELBO."
   ]
  },
  {
   "cell_type": "markdown",
   "metadata": {},
   "source": [
    "Given $q(W, H) = q(W)q(H)$ let us maximize ELBO:\n",
    "\n",
    "$$\n",
    "\\begin{align}\n",
    "\\mathcal{B_p(q)} &= \\langle \\log p(S|W, H) \\rangle_q + \\langle \\log p(W, H) \\rangle_q - \\langle \\log q(W,H) \\rangle_q \\\\\n",
    "\\mathcal{B_p(q)} &= \\sum_{W,H} q(W)q(H)\\log p(S|W, H) + \\sum_{W,H} q(W)q(H)\\log p(W, H) - \\sum_{W,H} q(W)q(H)\\log q(W) - \\sum_{W,H} q(W)q(H)\\log q(H) \\\\\n",
    "\\mathcal{B_p(q)} &= \\sum_{W,H} q(W)q(H)\\log p(S|W, H) + \\sum_{W} q(W)\\log p(W) + \\sum_{H} q(H)\\log p(H) - \\sum_{W} q(W)\\log q(W) - \\sum_{H}q(H)\\log q(H) \\\\\n",
    "\\end{align}\n",
    "$$"
   ]
  },
  {
   "cell_type": "markdown",
   "metadata": {},
   "source": [
    "If we set the derivative of the functional to 0:\n",
    "\n",
    "$$\n",
    "\\begin{align}\n",
    "\\frac{\\delta \\mathcal{B_p(q)}}{\\delta q(W)} &=^+ \\langle \\log p(S|W, H) \\rangle_{q(H)} +\\log p(W) - log q(W) -1 \\\\\n",
    "0 &=^+  \\langle \\log p(S|W, H) \\rangle_{q(H)} +\\log p(W) - log q(W) -1 \\\\\n",
    "log q(W) &=^+  \\langle \\log p(S|W, H) \\rangle_{q(H)} +\\log p(W)\\\\\n",
    "log q(W) &=^+ S\\log W -W\\langle H \\rangle_{q(H)} +(a-1)\\log(W) - W/b \\\\\n",
    "log q(W) &=^+ S\\log W -W a_hb_h +(a-1)\\log(W) - W/b \\\\\n",
    "\\end{align}\n",
    "$$ \n",
    "\n",
    "These mean that the new distribution for $q_i(W_i)$ is:\n",
    "$$\n",
    "q(W) = \\mathcal{G}\\big(S + a, b/(a_hb_hb+1)\\big)\n",
    "$$\n",
    "\n",
    "We will continue updating $q_i(W_i)$'s and $q_j(W_j)$'s similarly until convergence of the ELBO."
   ]
  },
  {
   "cell_type": "markdown",
   "metadata": {},
   "source": [
    "Let's generate an example W, H, and S"
   ]
  },
  {
   "cell_type": "code",
   "execution_count": 24,
   "metadata": {},
   "outputs": [],
   "source": [
    "a = 5\n",
    "b = 1;"
   ]
  },
  {
   "cell_type": "code",
   "execution_count": 25,
   "metadata": {},
   "outputs": [
    {
     "data": {
      "text/plain": [
       "17.850522597527235"
      ]
     },
     "execution_count": 25,
     "metadata": {},
     "output_type": "execute_result"
    }
   ],
   "source": [
    "W = rand(Gamma(a, b));\n",
    "H = rand(Gamma(a, b));\n",
    "S = W*H"
   ]
  },
  {
   "cell_type": "code",
   "execution_count": 26,
   "metadata": {},
   "outputs": [],
   "source": [
    "a_w, b_w = rand(2);\n",
    "a_h, b_h = rand(2);"
   ]
  },
  {
   "cell_type": "code",
   "execution_count": 27,
   "metadata": {},
   "outputs": [
    {
     "name": "stdout",
     "output_type": "stream",
     "text": [
      "error before variational inference: 17.849462392168274\n",
      "error after variational inference: 0.6936997038128396\n"
     ]
    }
   ],
   "source": [
    "println(string(\"error before variational inference: \", abs(S - a_w*b_w*a_h*b_h)))\n",
    "no_epochs= 50\n",
    "errors = zeros(no_epochs)\n",
    "for i in 1:no_epochs\n",
    "    global a_w, b_w, a_h, b_h\n",
    "    a_w, b_w = S + a, b/(b*a_h*b_h + 1)\n",
    "    a_h, b_h = S + a, b/(b*a_w*b_w + 1)\n",
    "    errors[i] = abs(S - a_w*b_w*a_h*b_h)\n",
    "end\n",
    "println(string(\"error after variational inference: \", abs(S - a_w*b_w*a_h*b_h)))"
   ]
  },
  {
   "cell_type": "code",
   "execution_count": 28,
   "metadata": {},
   "outputs": [
    {
     "data": {
      "image/png": "[encoded data removed]",
      "text/plain": [
       "Figure(PyObject <Figure size 640x480 with 1 Axes>)"
      ]
     },
     "metadata": {},
     "output_type": "display_data"
    }
   ],
   "source": [
    "PyPlot.plot(errors)\n",
    "PyPlot.title(\"Error through epochs\");"
   ]
  }
 ],
 "metadata": {
  "kernelspec": {
   "display_name": "Julia 1.0.1",
   "language": "julia",
   "name": "julia-1.0"
  },
  "language_info": {
   "file_extension": ".jl",
   "mimetype": "application/julia",
   "name": "julia",
   "version": "1.0.1"
  }
 },
 "nbformat": 4,
 "nbformat_minor": 2
}
